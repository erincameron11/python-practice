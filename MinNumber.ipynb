{
 "cells": [
  {
   "cell_type": "markdown",
   "metadata": {},
   "source": [
    "# Minimum Number\n",
    "### Write a program to find a minimum of two numbers.\n",
    "\n",
    "*Ref: https://www.prepbytes.com/blog/python/top-20-coding-questions-for-basic-python-programming/*"
   ]
  },
  {
   "cell_type": "code",
   "execution_count": 1,
   "metadata": {},
   "outputs": [],
   "source": [
    "def minNumber(one, two):\n",
    "    if one < two:\n",
    "        print(\"The minimum number is: \", one)\n",
    "    elif two < one:\n",
    "        print(\"The minimum number is: \", two)\n",
    "    else:\n",
    "         print(\"Both numbers are identical\")"
   ]
  },
  {
   "cell_type": "code",
   "execution_count": 4,
   "metadata": {},
   "outputs": [
    {
     "name": "stdout",
     "output_type": "stream",
     "text": [
      "Both numbers are identical\n"
     ]
    }
   ],
   "source": [
    "minNumber(2, 2)"
   ]
  },
  {
   "cell_type": "code",
   "execution_count": 5,
   "metadata": {},
   "outputs": [
    {
     "name": "stdout",
     "output_type": "stream",
     "text": [
      "The minimum number is:  2\n"
     ]
    }
   ],
   "source": [
    "minNumber(2, 8)"
   ]
  },
  {
   "cell_type": "code",
   "execution_count": 6,
   "metadata": {},
   "outputs": [
    {
     "name": "stdout",
     "output_type": "stream",
     "text": [
      "The minimum number is:  15\n"
     ]
    }
   ],
   "source": [
    "minNumber(16, 15)"
   ]
  },
  {
   "cell_type": "code",
   "execution_count": null,
   "metadata": {},
   "outputs": [],
   "source": []
  }
 ],
 "metadata": {
  "kernelspec": {
   "display_name": "Python 3",
   "language": "python",
   "name": "python3"
  },
  "language_info": {
   "codemirror_mode": {
    "name": "ipython",
    "version": 3
   },
   "file_extension": ".py",
   "mimetype": "text/x-python",
   "name": "python",
   "nbconvert_exporter": "python",
   "pygments_lexer": "ipython3",
   "version": "3.9.1"
  }
 },
 "nbformat": 4,
 "nbformat_minor": 4
}
