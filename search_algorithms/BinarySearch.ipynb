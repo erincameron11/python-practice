{
 "cells": [
  {
   "cell_type": "markdown",
   "metadata": {},
   "source": [
    "# Binary Search\n",
    "\n",
    "**O(log n)**     \n",
    "Finds the position of a target value within a sorted ascending array. Binary search compares the target value to the middle element of the array. If they are not equal, the half in which the target cannot lie is eliminated and the search continues on the remaining half, again taking the middle element to compare to the target value, and repeating this until the target value is found. If the search ends with the remaining half being empty, the target is not in the array. \n",
    "\n",
    "**Pseudocode:**  \n",
    "```\n",
    "function binarySearch(array, targetNumber):\n",
    "    left := 0\n",
    "    right := arrayLength − 1\n",
    "    while left <= right loop\n",
    "        middle = floor((left + right) / 2)\n",
    "        if array[middle] < targetNumber then\n",
    "            left = middle + 1\n",
    "        else if array[middle] > targetNumber then\n",
    "            right = middle − 1\n",
    "        else:\n",
    "            return middle\n",
    "    return failed\n",
    "```"
   ]
  },
  {
   "cell_type": "code",
   "execution_count": 20,
   "metadata": {},
   "outputs": [],
   "source": [
    "import math"
   ]
  },
  {
   "cell_type": "code",
   "execution_count": 17,
   "metadata": {},
   "outputs": [],
   "source": [
    "def binarySearch(array, targetNumber):\n",
    "    # Define variables\n",
    "    left = 0\n",
    "    right = len(array) - 1\n",
    "    \n",
    "    # Loop through the array until the left value is the same as right or larger\n",
    "    while left <= right:\n",
    "        # Calculate the middle value of this loop\n",
    "        middle = math.floor((left + right) / 2)\n",
    "        \n",
    "        # If the middle value of the array is less than the targetNumber, make the\n",
    "        # left value one greater than the current middle\n",
    "        if array[middle] < targetNumber:\n",
    "            left = middle + 1\n",
    "        elif array[middle] > targetNumber:\n",
    "            right = middle - 1\n",
    "        else:\n",
    "            return middle\n",
    "    \n",
    "    return \"targetNumber: \" + str(targetNumber) + \" is not in the array: \" + str(array)"
   ]
  },
  {
   "cell_type": "code",
   "execution_count": 18,
   "metadata": {},
   "outputs": [
    {
     "data": {
      "text/plain": [
       "6"
      ]
     },
     "execution_count": 18,
     "metadata": {},
     "output_type": "execute_result"
    }
   ],
   "source": [
    "array = [11, 23, 42, 55, 59, 67, 82, 90, 101, 103, 180, 290, 338, 345, 400]\n",
    "binarySearch(array, 82)"
   ]
  },
  {
   "cell_type": "code",
   "execution_count": 19,
   "metadata": {},
   "outputs": [
    {
     "data": {
      "text/plain": [
       "'targetNumber: 111 is not in the array: [11, 23, 42, 55, 59, 67, 82, 90, 101, 103, 180, 290, 338, 345, 400]'"
      ]
     },
     "execution_count": 19,
     "metadata": {},
     "output_type": "execute_result"
    }
   ],
   "source": [
    "binarySearch(array, 111)"
   ]
  },
  {
   "cell_type": "code",
   "execution_count": null,
   "metadata": {},
   "outputs": [],
   "source": []
  }
 ],
 "metadata": {
  "kernelspec": {
   "display_name": "Python 3",
   "language": "python",
   "name": "python3"
  },
  "language_info": {
   "codemirror_mode": {
    "name": "ipython",
    "version": 3
   },
   "file_extension": ".py",
   "mimetype": "text/x-python",
   "name": "python",
   "nbconvert_exporter": "python",
   "pygments_lexer": "ipython3",
   "version": "3.9.1"
  }
 },
 "nbformat": 4,
 "nbformat_minor": 4
}
