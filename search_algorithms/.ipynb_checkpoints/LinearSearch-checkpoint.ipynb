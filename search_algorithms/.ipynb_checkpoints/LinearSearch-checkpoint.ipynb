{
 "cells": [
  {
   "cell_type": "markdown",
   "metadata": {},
   "source": [
    "# Linear Search\n",
    "\n",
    "**O(n)**   \n",
    "Sequential search that checks each element in the array one-by-one, starting at the first element and ending at the last (worst case).\n",
    "\n",
    "**Pseudocode**   \n",
    "```\n",
    "function linearSearch(array, targetNumber):\n",
    "    number = 0\n",
    "    for all elements in the array\n",
    "        if array[number] equals targetNumber\n",
    "            return number\n",
    "    \n",
    "    return failed\n",
    "```"
   ]
  },
  {
   "cell_type": "code",
   "execution_count": 7,
   "metadata": {},
   "outputs": [],
   "source": [
    "def linearSearch(array, targetNumber):\n",
    "    # Define variables\n",
    "    number = 0\n",
    "    \n",
    "    # Loop through each element in the array until the value is found\n",
    "    for value in array:\n",
    "        # If the value is equal to the targetNumber, return the index\n",
    "        if value == targetNumber:\n",
    "            return number\n",
    "        \n",
    "        # Increase the number\n",
    "        number = number + 1\n",
    "    \n",
    "    return \"targetNumber: \" + str(targetNumber) + \" is not in the array: \" + str(array)"
   ]
  },
  {
   "cell_type": "code",
   "execution_count": 8,
   "metadata": {},
   "outputs": [
    {
     "data": {
      "text/plain": [
       "8"
      ]
     },
     "execution_count": 8,
     "metadata": {},
     "output_type": "execute_result"
    }
   ],
   "source": [
    "array = [11, 23, 42, 55, 59, 67, 82, 90, 101, 103, 180, 290, 338, 345, 400]\n",
    "linearSearch(array, 101)"
   ]
  },
  {
   "cell_type": "code",
   "execution_count": 9,
   "metadata": {},
   "outputs": [
    {
     "data": {
      "text/plain": [
       "1"
      ]
     },
     "execution_count": 9,
     "metadata": {},
     "output_type": "execute_result"
    }
   ],
   "source": [
    "linearSearch(array, 23)"
   ]
  },
  {
   "cell_type": "code",
   "execution_count": 10,
   "metadata": {},
   "outputs": [
    {
     "data": {
      "text/plain": [
       "'targetNumber: 102 is not in the array: [11, 23, 42, 55, 59, 67, 82, 90, 101, 103, 180, 290, 338, 345, 400]'"
      ]
     },
     "execution_count": 10,
     "metadata": {},
     "output_type": "execute_result"
    }
   ],
   "source": [
    "linearSearch(array, 102)"
   ]
  },
  {
   "cell_type": "code",
   "execution_count": null,
   "metadata": {},
   "outputs": [],
   "source": []
  }
 ],
 "metadata": {
  "kernelspec": {
   "display_name": "Python 3",
   "language": "python",
   "name": "python3"
  },
  "language_info": {
   "codemirror_mode": {
    "name": "ipython",
    "version": 3
   },
   "file_extension": ".py",
   "mimetype": "text/x-python",
   "name": "python",
   "nbconvert_exporter": "python",
   "pygments_lexer": "ipython3",
   "version": "3.9.1"
  }
 },
 "nbformat": 4,
 "nbformat_minor": 4
}
