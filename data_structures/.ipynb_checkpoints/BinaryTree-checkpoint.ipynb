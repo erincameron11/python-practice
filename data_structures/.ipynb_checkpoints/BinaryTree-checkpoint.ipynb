{
 "cells": [
  {
   "cell_type": "markdown",
   "metadata": {},
   "source": [
    "# Binary Tree\n",
    "\n",
    "Insert, delete, traverse"
   ]
  },
  {
   "cell_type": "code",
   "execution_count": null,
   "metadata": {},
   "outputs": [],
   "source": [
    "class BinaryTree:\n",
    "    # Define variables\n",
    "    root = null\n",
    "    size = 0\n",
    "    \n",
    "    # Function for insertion\n",
    "    def insert(number):\n",
    "        # If this is the first value entered into the tree\n",
    "        if size == 0:\n",
    "            root = number\n",
    "        \n",
    "        # Increase the size\n",
    "        size = size + 1\n",
    "        \n",
    "    def delete(number):\n",
    "        # If this is the last value in the tree\n",
    "        if size == 1:\n",
    "            root = null\n",
    "            # Decrease the size\n",
    "            size = size - 1\n",
    "        # Locate the value in the tree and remove it\n",
    "#         else:\n",
    "        \n",
    "    # Function to traverse the tree\n",
    "    def traverse():\n",
    "        "
   ]
  }
 ],
 "metadata": {
  "kernelspec": {
   "display_name": "Python 3",
   "language": "python",
   "name": "python3"
  },
  "language_info": {
   "codemirror_mode": {
    "name": "ipython",
    "version": 3
   },
   "file_extension": ".py",
   "mimetype": "text/x-python",
   "name": "python",
   "nbconvert_exporter": "python",
   "pygments_lexer": "ipython3",
   "version": "3.9.1"
  }
 },
 "nbformat": 4,
 "nbformat_minor": 4
}
