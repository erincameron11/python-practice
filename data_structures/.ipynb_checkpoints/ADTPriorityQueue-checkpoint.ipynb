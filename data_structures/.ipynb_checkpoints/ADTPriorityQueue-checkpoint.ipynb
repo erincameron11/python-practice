{
 "cells": [
  {
   "cell_type": "markdown",
   "metadata": {},
   "source": [
    "# ADT Priority Queue"
   ]
  },
  {
   "cell_type": "code",
   "execution_count": 71,
   "metadata": {},
   "outputs": [
    {
     "ename": "IndentationError",
     "evalue": "expected an indented block (<ipython-input-71-7ec39156566a>, line 39)",
     "output_type": "error",
     "traceback": [
      "\u001b[0;36m  File \u001b[0;32m\"<ipython-input-71-7ec39156566a>\"\u001b[0;36m, line \u001b[0;32m39\u001b[0m\n\u001b[0;31m    self.length = self.length + 1\u001b[0m\n\u001b[0m    ^\u001b[0m\n\u001b[0;31mIndentationError\u001b[0m\u001b[0;31m:\u001b[0m expected an indented block\n"
     ]
    }
   ],
   "source": [
    "class PQueue:\n",
    "    # Define variables\n",
    "    priority = 0\n",
    "    value = 0\n",
    "    length = 0\n",
    "    pQueue = []\n",
    "    priorityList = []\n",
    "    \n",
    "    # Define a method to insert an element into the queue\n",
    "    def enqueue(self, value, priority):\n",
    "        # If the queue is empty, add the value to index 0\n",
    "        if self.length == 0:\n",
    "            self.pQueue.append(value)\n",
    "            self.priorityList.append(priority)\n",
    "        else:    \n",
    "            # Find the correct location to enqueue to based on priority\n",
    "            for i in range(0, self.length):\n",
    "                # If the current index is less than the entered priority\n",
    "                if self.priorityList[i] < priority:\n",
    "                    self.pQueue.insert(i, value)\n",
    "                    self.priorityList.insert(i, priority)\n",
    "                    break\n",
    "                else:\n",
    "                       #WHAT\n",
    "                \n",
    "                \n",
    "#                     self.pQueue.insert(i, value)\n",
    "#                     self.priorityList.insert(i, priority)\n",
    "#                     break\n",
    "#                 # If the current index is equal to the entered priority\n",
    "#                 elif self.priorityList[i] == priority:\n",
    "#                     for j in range(i, self.length):\n",
    "#                         if self.priorityList[j + 1] < priority:    \n",
    "#                             self.pQueue.insert(i + 1, value)\n",
    "#                             self.priorityList.insert(i + 1, priority)\n",
    "#                             break\n",
    "#                 else:\n",
    "#                     self.pQueue.insert(i + 1, value)\n",
    "#                     self.priorityList.insert(i + 1, priority)\n",
    "#                     break\n",
    "        # Increase the length\n",
    "        self.length = self.length + 1\n",
    "\n",
    "    # Define a method to remove the top element from the queue\n",
    "    def dequeue(self):\n",
    "        popped = self.pQueue.pop(0)\n",
    "        self.length = self.length - 1\n",
    "        return popped\n",
    "        \n",
    "    # Define a method to view the top element on the queue\n",
    "    def peek(self):\n",
    "        popped = self.pQueue.pop(0)\n",
    "        self.pQueue.insert(0, popped)\n",
    "        return popped\n",
    "\n",
    "    # Define a method to see if a queue is empty or not\n",
    "    def isEmpty(self):\n",
    "        return self.length == 0\n",
    "\n",
    "    # Define a method to see the size of a queue\n",
    "    def size(self):\n",
    "        return self.length"
   ]
  },
  {
   "cell_type": "code",
   "execution_count": 72,
   "metadata": {},
   "outputs": [
    {
     "name": "stdout",
     "output_type": "stream",
     "text": [
      "[5, 1, 8, 9, 9]\n",
      "[100, 79, 80, 80, 80]\n",
      "\n",
      " [8, 5, 1, 8, 9, 9]\n",
      "[80, 100, 79, 80, 80, 80]\n",
      "\n",
      " [1, 8, 5, 1, 8, 9, 9]\n",
      "[79, 80, 100, 79, 80, 80, 80]\n",
      "\n",
      " [5, 1, 8, 5, 1, 8, 9, 9]\n",
      "[100, 79, 80, 100, 79, 80, 80, 80]\n"
     ]
    }
   ],
   "source": [
    "pq = PQueue()\n",
    "pq.enqueue(9, 80)\n",
    "print(pq.pQueue)\n",
    "print(pq.priorityList)\n",
    "\n",
    "pq.enqueue(8, 80)\n",
    "print(\"\\n\", pq.pQueue)\n",
    "print(pq.priorityList)\n",
    "\n",
    "pq.enqueue(1, 79)\n",
    "print(\"\\n\", pq.pQueue)\n",
    "print(pq.priorityList)\n",
    "\n",
    "pq.enqueue(5, 100)\n",
    "print(\"\\n\", pq.pQueue)\n",
    "print(pq.priorityList)"
   ]
  },
  {
   "cell_type": "code",
   "execution_count": null,
   "metadata": {},
   "outputs": [],
   "source": []
  }
 ],
 "metadata": {
  "kernelspec": {
   "display_name": "Python 3",
   "language": "python",
   "name": "python3"
  },
  "language_info": {
   "codemirror_mode": {
    "name": "ipython",
    "version": 3
   },
   "file_extension": ".py",
   "mimetype": "text/x-python",
   "name": "python",
   "nbconvert_exporter": "python",
   "pygments_lexer": "ipython3",
   "version": "3.9.1"
  }
 },
 "nbformat": 4,
 "nbformat_minor": 4
}
