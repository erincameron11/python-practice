{
 "cells": [
  {
   "cell_type": "markdown",
   "metadata": {},
   "source": [
    "# Queue\n",
    "\n",
    "FIFO (First In First Out). Basic operations include:\n",
    "* enqueue() to insert an element into the queue. Adding an element will be performed after checking whether the queue is full or not.\n",
    "* dequeue() to remove an element from the queue. An element can only be deleted when there is at least an element to delete\n",
    "* front() returns the front element of the queue.\n",
    "* isEmpty() returns true if queue is empty else false.\n",
    "* size() returns the size of queue."
   ]
  },
  {
   "cell_type": "code",
   "execution_count": 7,
   "metadata": {},
   "outputs": [],
   "source": [
    "class Queue:\n",
    "    queue = []\n",
    "    length = 0\n",
    "    \n",
    "    # Define a method to insert an element into the queue\n",
    "    def enqueue(self, value):\n",
    "        self.queue.append(value)\n",
    "        self.length = self.length + 1\n",
    "        return self.queue\n",
    "\n",
    "    # Define a method to remove the top element from the queue\n",
    "    def dequeue(self):\n",
    "        popped = self.queue.pop(0)\n",
    "        self.length = self.length - 1\n",
    "        return popped\n",
    "        \n",
    "    # Define a method to view the top element on the queue\n",
    "    def peek(self):\n",
    "        popped = self.queue.pop(0)\n",
    "        self.queue.insert(0, popped)\n",
    "        return popped\n",
    "\n",
    "    # Define a method to see if a queue is empty or not\n",
    "    def isEmpty(self):\n",
    "        return self.length == 0\n",
    "\n",
    "    # Define a method to see the size of a queue\n",
    "    def size(self):\n",
    "        return self.length"
   ]
  },
  {
   "cell_type": "code",
   "execution_count": 8,
   "metadata": {},
   "outputs": [
    {
     "name": "stdout",
     "output_type": "stream",
     "text": [
      "isEmpty?:  True\n",
      "Size:  3\n",
      "After enqueue 8:  [15, 24, 33, 8]\n",
      "Size:  4\n",
      "After dequeue:  15\n",
      "Top:  24\n",
      "Stack:  [24, 33, 8]\n"
     ]
    }
   ],
   "source": [
    "queue = Queue()\n",
    "print(\"isEmpty?: \", queue.isEmpty())\n",
    "queue.enqueue(15)\n",
    "queue.enqueue(24)\n",
    "queue.enqueue(33)\n",
    "print(\"Size: \", queue.size())\n",
    "print(\"After enqueue 8: \", queue.enqueue(8))\n",
    "print(\"Size: \", queue.size())\n",
    "print(\"After dequeue: \", queue.dequeue())\n",
    "print(\"Top: \", queue.peek())\n",
    "print(\"Stack: \", queue.queue)"
   ]
  },
  {
   "cell_type": "code",
   "execution_count": null,
   "metadata": {},
   "outputs": [],
   "source": []
  }
 ],
 "metadata": {
  "kernelspec": {
   "display_name": "Python 3",
   "language": "python",
   "name": "python3"
  },
  "language_info": {
   "codemirror_mode": {
    "name": "ipython",
    "version": 3
   },
   "file_extension": ".py",
   "mimetype": "text/x-python",
   "name": "python",
   "nbconvert_exporter": "python",
   "pygments_lexer": "ipython3",
   "version": "3.9.1"
  }
 },
 "nbformat": 4,
 "nbformat_minor": 4
}
