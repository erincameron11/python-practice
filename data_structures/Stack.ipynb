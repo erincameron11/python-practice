{
 "cells": [
  {
   "cell_type": "markdown",
   "metadata": {},
   "source": [
    "# Stack\n",
    "\n",
    "LIFO (Last In First Out). Basic operations include:\n",
    "* push() to insert an element into the stack\n",
    "* pop() to remove an element from the stack\n",
    "* top() Returns the top element of the stack.\n",
    "* isEmpty() returns true if stack is empty else false.\n",
    "* size() returns the size of stack."
   ]
  },
  {
   "cell_type": "code",
   "execution_count": 238,
   "metadata": {},
   "outputs": [],
   "source": [
    "class Stack:\n",
    "    stack = [15, 24, 33]\n",
    "    length = 2\n",
    "    \n",
    "    # Constructor\n",
    "    # def __init__(self):\n",
    "    #     stack = [1, 2, 3]\n",
    "    #     length = 0\n",
    "    \n",
    "    # Define a method to insert an element into the stack\n",
    "    def push(self, value):\n",
    "        self.stack[self.length + 1] = value\n",
    "        return self.stack\n",
    "        # for index in range(0, self.length + 1):\n",
    "        #     if index == self.length + 1:\n",
    "        #         pushed = self.stack[index]\n",
    "        #         break\n",
    "        #     newStack.append(self.stack[index])\n",
    "        # self.stack = newStack\n",
    "        # self.length = self.length + 1\n",
    "        # return pushed\n",
    "        \n",
    "        # pushed = self.insert(self.length, value)\n",
    "        # return pushed\n",
    "\n",
    "    # Define a method to remove the top element from the stack\n",
    "    def pop(self):\n",
    "        popped = self.stack.pop(self.length)\n",
    "        self.length = self.length - 1\n",
    "        return popped\n",
    "        \n",
    "    # Define a method to view the top element on the stack\n",
    "    def top(self):\n",
    "        popped = self.stack.pop(self.length)\n",
    "        self.stack.insert(self.length, popped)\n",
    "        return popped\n",
    "\n",
    "    # Define a method to see if a stack is empty or not\n",
    "    def isEmpty(self):\n",
    "        return self.length == 0\n",
    "\n",
    "    def size(self):\n",
    "        return self.length"
   ]
  },
  {
   "cell_type": "code",
   "execution_count": 239,
   "metadata": {},
   "outputs": [
    {
     "ename": "IndexError",
     "evalue": "list assignment index out of range",
     "output_type": "error",
     "traceback": [
      "\u001b[0;31m---------------------------------------------------------------------------\u001b[0m",
      "\u001b[0;31mIndexError\u001b[0m                                Traceback (most recent call last)",
      "Cell \u001b[0;32mIn[239], line 4\u001b[0m\n\u001b[1;32m      1\u001b[0m stack \u001b[38;5;241m=\u001b[39m Stack()\n\u001b[1;32m      2\u001b[0m \u001b[38;5;66;03m# print(stack.isEmpty())\u001b[39;00m\n\u001b[1;32m      3\u001b[0m \u001b[38;5;66;03m# print(stack.size())\u001b[39;00m\n\u001b[0;32m----> 4\u001b[0m \u001b[38;5;28mprint\u001b[39m(\u001b[43mstack\u001b[49m\u001b[38;5;241;43m.\u001b[39;49m\u001b[43mpush\u001b[49m\u001b[43m(\u001b[49m\u001b[38;5;241;43m8\u001b[39;49m\u001b[43m)\u001b[49m)\n\u001b[1;32m      5\u001b[0m \u001b[38;5;66;03m# print(stack.pop())\u001b[39;00m\n\u001b[1;32m      6\u001b[0m \u001b[38;5;66;03m# print(stack.top())\u001b[39;00m\n\u001b[1;32m      7\u001b[0m \u001b[38;5;66;03m# stack.stack\u001b[39;00m\n",
      "Cell \u001b[0;32mIn[238], line 12\u001b[0m, in \u001b[0;36mStack.push\u001b[0;34m(self, value)\u001b[0m\n\u001b[1;32m     11\u001b[0m \u001b[38;5;28;01mdef\u001b[39;00m \u001b[38;5;21mpush\u001b[39m(\u001b[38;5;28mself\u001b[39m, value):\n\u001b[0;32m---> 12\u001b[0m     \u001b[38;5;28;43mself\u001b[39;49m\u001b[38;5;241;43m.\u001b[39;49m\u001b[43mstack\u001b[49m\u001b[43m[\u001b[49m\u001b[38;5;28;43mself\u001b[39;49m\u001b[38;5;241;43m.\u001b[39;49m\u001b[43mlength\u001b[49m\u001b[43m \u001b[49m\u001b[38;5;241;43m+\u001b[39;49m\u001b[43m \u001b[49m\u001b[38;5;241;43m1\u001b[39;49m\u001b[43m]\u001b[49m \u001b[38;5;241m=\u001b[39m value\n\u001b[1;32m     13\u001b[0m     \u001b[38;5;28;01mreturn\u001b[39;00m \u001b[38;5;28mself\u001b[39m\u001b[38;5;241m.\u001b[39mstack\n",
      "\u001b[0;31mIndexError\u001b[0m: list assignment index out of range"
     ]
    }
   ],
   "source": [
    "stack = Stack()\n",
    "# print(stack.isEmpty())\n",
    "# print(stack.size())\n",
    "print(stack.push(8))\n",
    "# print(stack.pop())\n",
    "# print(stack.top())\n",
    "# stack.stack"
   ]
  },
  {
   "cell_type": "code",
   "execution_count": null,
   "metadata": {},
   "outputs": [],
   "source": []
  }
 ],
 "metadata": {
  "kernelspec": {
   "display_name": "Python 3 (ipykernel)",
   "language": "python",
   "name": "python3"
  },
  "language_info": {
   "codemirror_mode": {
    "name": "ipython",
    "version": 3
   },
   "file_extension": ".py",
   "mimetype": "text/x-python",
   "name": "python",
   "nbconvert_exporter": "python",
   "pygments_lexer": "ipython3",
   "version": "3.11.7"
  }
 },
 "nbformat": 4,
 "nbformat_minor": 4
}
