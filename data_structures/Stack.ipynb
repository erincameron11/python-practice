{
 "cells": [
  {
   "cell_type": "markdown",
   "metadata": {},
   "source": [
    "# Stack\n",
    "\n",
    "LIFO (Last In First Out). Basic operations include:\n",
    "* push() to insert an element into the stack\n",
    "* pop() to remove an element from the stack\n",
    "* top() Returns the top element of the stack.\n",
    "* isEmpty() returns true if stack is empty else false.\n",
    "* size() returns the size of stack."
   ]
  },
  {
   "cell_type": "code",
   "execution_count": 30,
   "metadata": {},
   "outputs": [],
   "source": [
    "class Stack:\n",
    "    stack = [15, 24, 33]\n",
    "    length = 2\n",
    "    \n",
    "    # Define a method to insert an element into the stack\n",
    "    def push(self, value):\n",
    "        self.stack.append(value)\n",
    "        self.length = self.length + 1\n",
    "        return self.stack\n",
    "\n",
    "    # Define a method to remove the top element from the stack\n",
    "    def pop(self):\n",
    "        popped = self.stack.pop(self.length)\n",
    "        self.length = self.length - 1\n",
    "        return popped\n",
    "        \n",
    "    # Define a method to view the top element on the stack\n",
    "    def top(self):\n",
    "        popped = self.stack.pop(self.length)\n",
    "        self.stack.insert(self.length, popped)\n",
    "        return popped\n",
    "\n",
    "    # Define a method to see if a stack is empty or not\n",
    "    def isEmpty(self):\n",
    "        return self.length == 0\n",
    "\n",
    "    def size(self):\n",
    "        return self.length"
   ]
  },
  {
   "cell_type": "code",
   "execution_count": 31,
   "metadata": {},
   "outputs": [
    {
     "name": "stdout",
     "output_type": "stream",
     "text": [
      "isEmpty?:  False\n",
      "Size:  2\n",
      "After pushing 8:  [15, 24, 33, 8]\n",
      "Size:  3\n",
      "After popping:  8\n",
      "Top:  33\n",
      "Stack:  [15, 24, 33]\n"
     ]
    }
   ],
   "source": [
    "stack = Stack()\n",
    "print(\"isEmpty?: \", stack.isEmpty())\n",
    "print(\"Size: \", stack.size())\n",
    "print(\"After pushing 8: \", stack.push(8))\n",
    "print(\"Size: \", stack.size())\n",
    "print(\"After popping: \", stack.pop())\n",
    "print(\"Top: \", stack.top())\n",
    "print(\"Stack: \", stack.stack)"
   ]
  },
  {
   "cell_type": "code",
   "execution_count": null,
   "metadata": {},
   "outputs": [],
   "source": []
  }
 ],
 "metadata": {
  "kernelspec": {
   "display_name": "Python 3 (ipykernel)",
   "language": "python",
   "name": "python3"
  },
  "language_info": {
   "codemirror_mode": {
    "name": "ipython",
    "version": 3
   },
   "file_extension": ".py",
   "mimetype": "text/x-python",
   "name": "python",
   "nbconvert_exporter": "python",
   "pygments_lexer": "ipython3",
   "version": "3.11.7"
  }
 },
 "nbformat": 4,
 "nbformat_minor": 4
}
