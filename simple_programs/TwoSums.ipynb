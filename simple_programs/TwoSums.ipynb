{
 "cells": [
  {
   "cell_type": "markdown",
   "metadata": {},
   "source": [
    "# Two Sums\n",
    "### Given an array of integers nums and an integer target, return indices of the two numbers such that they add up to target. Each input will have exactly one solution, and an element can only be used once. Return an array of indices.\n",
    "\n",
    "Example:\n",
    "```\n",
    "array = [4, 11, 7, 13, 9]\n",
    "target = 11\n",
    "answer = [0, 2]\n",
    "```"
   ]
  },
  {
   "cell_type": "code",
   "execution_count": 44,
   "metadata": {},
   "outputs": [],
   "source": [
    "def twosums(array, target):\n",
    "    # Define variables\n",
    "    total = 0\n",
    "    \n",
    "    # Loop through the (3D) array rows\n",
    "    for row in range(0, len(array)):\n",
    "        # Loop through the columns\n",
    "        for col in range(row, len(array)):\n",
    "            # If we are looking at the same indice in the array, skip\n",
    "            if row == col:\n",
    "                continue\n",
    "            \n",
    "            # If the two values equal the target, return the array indices\n",
    "            if array[row] + array[col] == target:\n",
    "                return [row, col]\n",
    "    \n",
    "    # If nothing found, return -1        \n",
    "    return \"No two indices equal \" + str(target)"
   ]
  },
  {
   "cell_type": "code",
   "execution_count": 40,
   "metadata": {},
   "outputs": [
    {
     "data": {
      "text/plain": [
       "[2, 3]"
      ]
     },
     "execution_count": 40,
     "metadata": {},
     "output_type": "execute_result"
    }
   ],
   "source": [
    "array = [1, 2, 3, 4]\n",
    "twosums(array, 7)"
   ]
  },
  {
   "cell_type": "code",
   "execution_count": 41,
   "metadata": {},
   "outputs": [
    {
     "data": {
      "text/plain": [
       "[0, 1]"
      ]
     },
     "execution_count": 41,
     "metadata": {},
     "output_type": "execute_result"
    }
   ],
   "source": [
    "array = [2,7,11,15]\n",
    "twosums(array, 9)"
   ]
  },
  {
   "cell_type": "code",
   "execution_count": 42,
   "metadata": {},
   "outputs": [
    {
     "data": {
      "text/plain": [
       "[1, 2]"
      ]
     },
     "execution_count": 42,
     "metadata": {},
     "output_type": "execute_result"
    }
   ],
   "source": [
    "array = [3, 2, 4]\n",
    "twosums(array, 6)"
   ]
  },
  {
   "cell_type": "code",
   "execution_count": 45,
   "metadata": {},
   "outputs": [
    {
     "data": {
      "text/plain": [
       "'No two indices equal 9'"
      ]
     },
     "execution_count": 45,
     "metadata": {},
     "output_type": "execute_result"
    }
   ],
   "source": [
    "array = [3, 2, 4]\n",
    "twosums(array, 9)"
   ]
  },
  {
   "cell_type": "code",
   "execution_count": null,
   "metadata": {},
   "outputs": [],
   "source": []
  }
 ],
 "metadata": {
  "kernelspec": {
   "display_name": "Python 3",
   "language": "python",
   "name": "python3"
  },
  "language_info": {
   "codemirror_mode": {
    "name": "ipython",
    "version": 3
   },
   "file_extension": ".py",
   "mimetype": "text/x-python",
   "name": "python",
   "nbconvert_exporter": "python",
   "pygments_lexer": "ipython3",
   "version": "3.9.1"
  }
 },
 "nbformat": 4,
 "nbformat_minor": 4
}
