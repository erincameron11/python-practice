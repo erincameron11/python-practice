{
 "cells": [
  {
   "cell_type": "markdown",
   "metadata": {},
   "source": [
    "# Pyramid\n",
    "### Write a program to print the following pattern.\n",
    "\n",
    "```\n",
    "    *\n",
    "   * *\n",
    "  * * *\n",
    " * * * *\n",
    "* * * * *\n",
    "```\n",
    "\n",
    "*Ref: https://www.prepbytes.com/blog/python/top-20-coding-questions-for-basic-python-programming/*"
   ]
  },
  {
   "cell_type": "code",
   "execution_count": 21,
   "metadata": {},
   "outputs": [],
   "source": [
    "def pyramid():\n",
    "    # Define variable to track row number\n",
    "    count = 1\n",
    "    spaces = 4\n",
    "    \n",
    "    # Loop through the rows and create the structure\n",
    "    for index in range(0, 5):\n",
    "        \n",
    "        # Loop through each column and print the stars\n",
    "        for num in range(0, count):\n",
    "            \n",
    "            # If we are on the first element, add spaces\n",
    "            if num == 0:\n",
    "                # Loop through and add the appropriate spaces needed\n",
    "                for space in range(0, spaces):\n",
    "                    print(\" \", end=\"\")\n",
    "                \n",
    "            print(\"* \", end=\"\")\n",
    "        \n",
    "        # Increase the count, decrease the spaces\n",
    "        count += 1\n",
    "        spaces -= 1\n",
    "        \n",
    "        # Enter a new line\n",
    "        print()"
   ]
  },
  {
   "cell_type": "code",
   "execution_count": 22,
   "metadata": {},
   "outputs": [
    {
     "name": "stdout",
     "output_type": "stream",
     "text": [
      "    * \n",
      "   * * \n",
      "  * * * \n",
      " * * * * \n",
      "* * * * * \n"
     ]
    }
   ],
   "source": [
    "pyramid()"
   ]
  },
  {
   "cell_type": "code",
   "execution_count": null,
   "metadata": {},
   "outputs": [],
   "source": []
  },
  {
   "cell_type": "code",
   "execution_count": null,
   "metadata": {},
   "outputs": [],
   "source": []
  }
 ],
 "metadata": {
  "kernelspec": {
   "display_name": "Python 3",
   "language": "python",
   "name": "python3"
  },
  "language_info": {
   "codemirror_mode": {
    "name": "ipython",
    "version": 3
   },
   "file_extension": ".py",
   "mimetype": "text/x-python",
   "name": "python",
   "nbconvert_exporter": "python",
   "pygments_lexer": "ipython3",
   "version": "3.9.1"
  }
 },
 "nbformat": 4,
 "nbformat_minor": 4
}
