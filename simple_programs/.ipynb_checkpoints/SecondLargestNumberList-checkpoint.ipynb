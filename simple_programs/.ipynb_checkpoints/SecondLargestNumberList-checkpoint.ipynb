{
 "cells": [
  {
   "cell_type": "markdown",
   "metadata": {},
   "source": [
    "# Find Second Largest Number in List\n",
    "### Write a Python program to find the second largest number in a list.\n",
    "\n",
    "*Ref: https://medium.com/@nikitasilaparasetty/python-interview-coding-questions-with-solutions-for-beginners-7f6d782defac*"
   ]
  },
  {
   "cell_type": "code",
   "execution_count": 8,
   "metadata": {},
   "outputs": [],
   "source": [
    "def findSecondLargest(numbers):\n",
    "    largest = 0\n",
    "    secondLargest = 0\n",
    "    \n",
    "    # Loop through the list\n",
    "    for n in numbers:\n",
    "        if n > largest:\n",
    "            secondLargest = largest\n",
    "            largest = n\n",
    "            \n",
    "    return secondLargest"
   ]
  },
  {
   "cell_type": "code",
   "execution_count": 9,
   "metadata": {},
   "outputs": [
    {
     "name": "stdout",
     "output_type": "stream",
     "text": [
      "66\n"
     ]
    }
   ],
   "source": [
    "numbers = [3, 5, 4, 7, 9, 0, 10, 44, 12, 66, 75, 36, 8]\n",
    "print(findSecondLargest(numbers))"
   ]
  },
  {
   "cell_type": "code",
   "execution_count": 10,
   "metadata": {},
   "outputs": [
    {
     "name": "stdout",
     "output_type": "stream",
     "text": [
      "8\n"
     ]
    }
   ],
   "source": [
    "numbers = [0, 7, 3, 5, 8, 2, 9]\n",
    "print(findSecondLargest(numbers))"
   ]
  },
  {
   "cell_type": "code",
   "execution_count": null,
   "metadata": {},
   "outputs": [],
   "source": []
  }
 ],
 "metadata": {
  "kernelspec": {
   "display_name": "Python 3",
   "language": "python",
   "name": "python3"
  },
  "language_info": {
   "codemirror_mode": {
    "name": "ipython",
    "version": 3
   },
   "file_extension": ".py",
   "mimetype": "text/x-python",
   "name": "python",
   "nbconvert_exporter": "python",
   "pygments_lexer": "ipython3",
   "version": "3.9.1"
  }
 },
 "nbformat": 4,
 "nbformat_minor": 4
}
