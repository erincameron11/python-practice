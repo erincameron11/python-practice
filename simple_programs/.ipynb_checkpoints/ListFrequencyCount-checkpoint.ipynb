{
 "cells": [
  {
   "cell_type": "markdown",
   "metadata": {},
   "source": [
    "# List Frequency Count\n",
    "### Write a Python program to count the frequency of each element in a list.\n",
    "\n",
    "*Ref: https://medium.com/@nikitasilaparasetty/python-interview-coding-questions-with-solutions-for-beginners-7f6d782defac*"
   ]
  },
  {
   "cell_type": "code",
   "execution_count": 3,
   "metadata": {},
   "outputs": [],
   "source": [
    "def frequencyCount(dupList):\n",
    "    # Define a new dictionary to hold the frequencies\n",
    "    frequencyDictionary = {}\n",
    "    \n",
    "    for e in dupList:\n",
    "        if e not in frequencyDictionary:\n",
    "            frequencyDictionary[e] = 1\n",
    "        elif e in frequencyDictionary:\n",
    "            frequencyDictionary[e] += 1\n",
    "            \n",
    "    return frequencyDictionary"
   ]
  },
  {
   "cell_type": "code",
   "execution_count": 4,
   "metadata": {},
   "outputs": [
    {
     "data": {
      "text/plain": [
       "{'Erin': 2, 'Harry': 1, 'Peter': 1, 'Laura': 1}"
      ]
     },
     "execution_count": 4,
     "metadata": {},
     "output_type": "execute_result"
    }
   ],
   "source": [
    "dupList = [\"Erin\", \"Harry\", \"Peter\", \"Erin\", \"Laura\"]\n",
    "frequencyCount(dupList)"
   ]
  },
  {
   "cell_type": "code",
   "execution_count": null,
   "metadata": {},
   "outputs": [],
   "source": []
  }
 ],
 "metadata": {
  "kernelspec": {
   "display_name": "Python 3",
   "language": "python",
   "name": "python3"
  },
  "language_info": {
   "codemirror_mode": {
    "name": "ipython",
    "version": 3
   },
   "file_extension": ".py",
   "mimetype": "text/x-python",
   "name": "python",
   "nbconvert_exporter": "python",
   "pygments_lexer": "ipython3",
   "version": "3.9.1"
  }
 },
 "nbformat": 4,
 "nbformat_minor": 4
}
