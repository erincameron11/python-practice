{
 "cells": [
  {
   "cell_type": "markdown",
   "metadata": {},
   "source": [
    "# Fibonacci\n",
    "### Write a method that returns the first n numbers in the Fibonacci sequence\n",
    "\n",
    "The sequence follows the rule that each number is equal to the sum of the preceding two numbers (ex: 0, 1, 1, 2, 3, 5, 8, 13, 21, 34, 55, 89, 144, 233 ...).\n",
    "\n",
    "`f(0) = 0 + 1 = 1\n",
    "f(1) = 1 + 1 = 2\n",
    "f(0) = 1 + 2 = 3\n",
    "f(0) = 2 + 3 = 5\n",
    "f(0) = 3 + 5 = 8\n",
    "f(0) = 5 + 8 = 13\n",
    "f(0) = 8 + 13 = 21\n",
    "f(0) = 13 + 21 = 34\n",
    "f(0) = 21 + 34 = 55\n",
    "...`"
   ]
  },
  {
   "cell_type": "code",
   "execution_count": 3,
   "metadata": {},
   "outputs": [],
   "source": [
    "def fibonacci(n):\n",
    "    # Base case\n",
    "    if n == 0 or n == 1:\n",
    "        return 1\n",
    "    \n",
    "    # Recursive case\n",
    "    return fibonacci(n - 1) + fibonacci(n - 2)"
   ]
  },
  {
   "cell_type": "code",
   "execution_count": 6,
   "metadata": {},
   "outputs": [
    {
     "data": {
      "text/plain": [
       "233"
      ]
     },
     "execution_count": 6,
     "metadata": {},
     "output_type": "execute_result"
    }
   ],
   "source": [
    "# Test\n",
    "fibonacci(12)"
   ]
  },
  {
   "cell_type": "markdown",
   "metadata": {},
   "source": [
    "Ref: to check answers http://jwilson.coe.uga.edu/EMAT6680Su12/Ferra/MFWU12/MFAssignment12.html"
   ]
  },
  {
   "cell_type": "code",
   "execution_count": null,
   "metadata": {},
   "outputs": [],
   "source": []
  }
 ],
 "metadata": {
  "kernelspec": {
   "display_name": "Python 3",
   "language": "python",
   "name": "python3"
  },
  "language_info": {
   "codemirror_mode": {
    "name": "ipython",
    "version": 3
   },
   "file_extension": ".py",
   "mimetype": "text/x-python",
   "name": "python",
   "nbconvert_exporter": "python",
   "pygments_lexer": "ipython3",
   "version": "3.9.1"
  }
 },
 "nbformat": 4,
 "nbformat_minor": 4
}
