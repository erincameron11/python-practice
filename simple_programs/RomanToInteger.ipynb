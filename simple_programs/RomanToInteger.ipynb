{
 "cells": [
  {
   "cell_type": "markdown",
   "metadata": {},
   "source": [
    "# Roman to Integer\n",
    "### Write a function to accept a roman numeral, and convert it to an integer value.\n",
    "\n",
    "Roman numerals are represented by 7 different symbols: I, V, X, L, C, D and M.\n",
    "\n",
    "```\n",
    "Symbol       Value\n",
    "-------------------\n",
    "I             1\n",
    "V             5\n",
    "X             10\n",
    "L             50\n",
    "C             100\n",
    "D             500\n",
    "M             1000\n",
    "```\n",
    "\n",
    "__Explanation:__   \n",
    "2 = II in Roman numeral, just two ones added together   \n",
    "12 = XII, which is simply X + II    \n",
    "27 = XXVII, which is XX + V + II   \n",
    "\n",
    "__Exceptions:__   \n",
    "Roman numerals are usually written largest to smallest from left to right. However, the numeral for four is not IIII. Instead, the number four is written as IV. Because the one is before the five we subtract it making four. The same principle applies to the number nine, which is written as IX. There are six instances where subtraction is used:\n",
    "\n",
    "```\n",
    "I can be placed before V (5) and X (10) to make 4 and 9. \n",
    "X can be placed before L (50) and C (100) to make 40 and 90. \n",
    "C can be placed before D (500) and M (1000) to make 400 and 900.\n",
    "```\n",
    " \n",
    "\n",
    "__Examples:__\n",
    "```\n",
    "Input: s = \"III\"\n",
    "Output: 3\n",
    "Explanation: III = 3.\n",
    "```\n",
    "\n",
    "```\n",
    "Input: s = \"LVIII\"\n",
    "Output: 58\n",
    "Explanation: L = 50, V= 5, III = 3.\n",
    "```\n",
    "\n",
    "```\n",
    "Input: s = \"MCMXCIV\"\n",
    "Output: 1994\n",
    "Explanation: M = 1000, CM = 900, XC = 90 and IV = 4.\n",
    "```"
   ]
  },
  {
   "cell_type": "code",
   "execution_count": 17,
   "metadata": {},
   "outputs": [],
   "source": [
    "# BRUTE FORCE IF/ELSE STATEMENT SOLUTION\n",
    "def romantoint(roman):\n",
    "    # Define variables\n",
    "    total = 0\n",
    "    \n",
    "    # Convert the roman to a list\n",
    "    roman = list(roman)\n",
    "    \n",
    "    # Loop through the list\n",
    "    for i in range(0, len(roman)):\n",
    "        if roman[i] == 'I':\n",
    "            total += 1\n",
    "        elif roman[i] == 'V':\n",
    "            # Exception IV -- I can be placed before V (5) to make 4\n",
    "            if roman[i - 1] != None and roman[i - 1] == 'I':\n",
    "                total += 3\n",
    "            # Otherwise, V is worth 5\n",
    "            else:\n",
    "                total += 5\n",
    "        elif roman[i] == 'X':\n",
    "            # Exception IX -- I can be placed before X (10) to make 9\n",
    "            if roman[i - 1] != None and roman[i - 1] == 'I':\n",
    "                total += 8\n",
    "            # Otherwise, X is worth 10\n",
    "            else:\n",
    "                total += 10\n",
    "        elif roman[i] == 'L':\n",
    "            # Exception XL -- X can be placed before L (50) to make 40\n",
    "            if roman[i - 1] != None and roman[i - 1] == 'X':\n",
    "                total += 30\n",
    "            # Otherwise, L is worth 50\n",
    "            else:\n",
    "                total += 50\n",
    "        elif roman[i] == 'C':\n",
    "            # Exception XC -- X can be placed before C (100) to make 90\n",
    "            if roman[i - 1] != None and roman[i - 1] == 'X':\n",
    "                total += 80\n",
    "            # Otherwise, C is worth 50\n",
    "            else:\n",
    "                total += 100\n",
    "        elif roman[i] == 'D':\n",
    "            # Exception CD -- C can be placed before D (500) to make 400\n",
    "            if roman[i - 1] != None and roman[i - 1] == 'C':\n",
    "                total += 300\n",
    "            # Otherwise, D is worth 500\n",
    "            else:\n",
    "                total += 500\n",
    "        elif roman[i] == 'M':\n",
    "            # Exception CM -- C can be placed before M (1000) to make 900\n",
    "            if roman[i - 1] != None and roman[i - 1] == 'C':\n",
    "                total += 800\n",
    "            # Otherwise, D is worth 500\n",
    "            else:\n",
    "                total += 1000\n",
    "    \n",
    "    return total"
   ]
  },
  {
   "cell_type": "code",
   "execution_count": 18,
   "metadata": {},
   "outputs": [
    {
     "data": {
      "text/plain": [
       "58"
      ]
     },
     "execution_count": 18,
     "metadata": {},
     "output_type": "execute_result"
    }
   ],
   "source": [
    "roman = \"LVIII\"\n",
    "romantoint(roman)"
   ]
  },
  {
   "cell_type": "code",
   "execution_count": 19,
   "metadata": {},
   "outputs": [
    {
     "data": {
      "text/plain": [
       "4"
      ]
     },
     "execution_count": 19,
     "metadata": {},
     "output_type": "execute_result"
    }
   ],
   "source": [
    "roman = \"IIII\"\n",
    "romantoint(roman)"
   ]
  },
  {
   "cell_type": "code",
   "execution_count": 20,
   "metadata": {},
   "outputs": [
    {
     "data": {
      "text/plain": [
       "1994"
      ]
     },
     "execution_count": 20,
     "metadata": {},
     "output_type": "execute_result"
    }
   ],
   "source": [
    "roman = \"MCMXCIV\"\n",
    "romantoint(roman)"
   ]
  },
  {
   "cell_type": "code",
   "execution_count": 21,
   "metadata": {},
   "outputs": [
    {
     "data": {
      "text/plain": [
       "5"
      ]
     },
     "execution_count": 21,
     "metadata": {},
     "output_type": "execute_result"
    }
   ],
   "source": [
    "roman = \"V\"\n",
    "romantoint(roman)"
   ]
  },
  {
   "cell_type": "code",
   "execution_count": 22,
   "metadata": {},
   "outputs": [
    {
     "data": {
      "text/plain": [
       "4"
      ]
     },
     "execution_count": 22,
     "metadata": {},
     "output_type": "execute_result"
    }
   ],
   "source": [
    "roman = \"IV\"\n",
    "romantoint(roman)"
   ]
  },
  {
   "cell_type": "code",
   "execution_count": 23,
   "metadata": {},
   "outputs": [
    {
     "data": {
      "text/plain": [
       "10"
      ]
     },
     "execution_count": 23,
     "metadata": {},
     "output_type": "execute_result"
    }
   ],
   "source": [
    "roman = \"X\"\n",
    "romantoint(roman)"
   ]
  },
  {
   "cell_type": "code",
   "execution_count": 24,
   "metadata": {},
   "outputs": [
    {
     "data": {
      "text/plain": [
       "9"
      ]
     },
     "execution_count": 24,
     "metadata": {},
     "output_type": "execute_result"
    }
   ],
   "source": [
    "roman = \"IX\"\n",
    "romantoint(roman)"
   ]
  },
  {
   "cell_type": "code",
   "execution_count": 25,
   "metadata": {},
   "outputs": [
    {
     "data": {
      "text/plain": [
       "443"
      ]
     },
     "execution_count": 25,
     "metadata": {},
     "output_type": "execute_result"
    }
   ],
   "source": [
    "roman = \"CDXLIII\"\n",
    "romantoint(roman)"
   ]
  },
  {
   "cell_type": "code",
   "execution_count": null,
   "metadata": {},
   "outputs": [],
   "source": []
  }
 ],
 "metadata": {
  "kernelspec": {
   "display_name": "Python 3",
   "language": "python",
   "name": "python3"
  },
  "language_info": {
   "codemirror_mode": {
    "name": "ipython",
    "version": 3
   },
   "file_extension": ".py",
   "mimetype": "text/x-python",
   "name": "python",
   "nbconvert_exporter": "python",
   "pygments_lexer": "ipython3",
   "version": "3.9.1"
  }
 },
 "nbformat": 4,
 "nbformat_minor": 4
}
