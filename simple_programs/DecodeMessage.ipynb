{
 "cells": [
  {
   "cell_type": "markdown",
   "metadata": {},
   "source": [
    "# Decode Message\n",
    "### Write a program to read in an encoded message from a .txt file and return the decoded version as a string\n",
    "\n",
    "The .txt file will take the form of:   \n",
    "`3 love 6 pie 2 horses 4 turtles 1 I 5 you`\n",
    "\n",
    "Each word in the file is associated with a number preceeding it. To solve the encoded message, you need to order each number and word pair from smallest to largest, and arrange them in a pyramid. The numbers at the end of each line of the pyramid correspond to the words in the message. All other words are ignored.\n",
    "\n",
    "Using the example above, the pyramid would look like this:\n",
    "```\n",
    "    1\n",
    "   2 3\n",
    "  4 5 6\n",
    "```\n",
    "\n",
    "Using the end values of the pyramid 1, 3, 6 we get the message:   \n",
    "`I love pie`"
   ]
  },
  {
   "cell_type": "code",
   "execution_count": 81,
   "metadata": {},
   "outputs": [],
   "source": [
    "def decode(message_file):\n",
    "    # Open the message\n",
    "    file = open(message_file)\n",
    "    \n",
    "    # Read the file into a string value\n",
    "    encodedMessage = file.read()\n",
    "    \n",
    "    # Deconstruct the string into key: value pairs\n",
    "    messageDict = {}\n",
    "    # Loop through the encoded message\n",
    "    for char in encodedMessage:\n",
    "        # If the character is a digit, add to key\n",
    "        if char.isdigit():\n",
    "            value = \"\"\n",
    "            key = int(char)\n",
    "            messageDict[key] = \"\"\n",
    "        # If we are on a string in the message, add to value\n",
    "        elif char != \" \":\n",
    "            value = value + char\n",
    "            messageDict[key] = value\n",
    "            \n",
    "    # Sort the dictionary\n",
    "    messageDict = dict(sorted(messageDict.items()))\n",
    "    \n",
    "    # Arrange numbers in a pyramid formation\n",
    "    count = 1 # start at row 1\n",
    "    key = 1 # start at key 1\n",
    "    keys = [] # define an empty list to hold the keys\n",
    "    # Loop through the key values\n",
    "    while key < len(m):\n",
    "        for col in range(1, count):\n",
    "            if col + 1 == count:\n",
    "                # Add key value to keys list\n",
    "                keys.append(key)\n",
    "            key += 1 # Increase the key\n",
    "        count += 1 # Increase the count\n",
    "    \n",
    "    # Locate the secret message using the keys list\n",
    "    message = \"\"\n",
    "    for val in keys:\n",
    "        message += messageDict[val] + \" \"\n",
    "    \n",
    "    print(message)"
   ]
  },
  {
   "cell_type": "code",
   "execution_count": 82,
   "metadata": {},
   "outputs": [
    {
     "name": "stdout",
     "output_type": "stream",
     "text": [
      "I love pie \n"
     ]
    }
   ],
   "source": [
    "decode(\"DecodeMessage.txt\")"
   ]
  }
 ],
 "metadata": {
  "kernelspec": {
   "display_name": "Python 3",
   "language": "python",
   "name": "python3"
  },
  "language_info": {
   "codemirror_mode": {
    "name": "ipython",
    "version": 3
   },
   "file_extension": ".py",
   "mimetype": "text/x-python",
   "name": "python",
   "nbconvert_exporter": "python",
   "pygments_lexer": "ipython3",
   "version": "3.9.1"
  }
 },
 "nbformat": 4,
 "nbformat_minor": 4
}
