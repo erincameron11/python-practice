{
 "cells": [
  {
   "cell_type": "markdown",
   "metadata": {},
   "source": [
    "# List Comparison\n",
    "### Write a Python program to find the common elements between two lists.\n",
    "\n",
    "*Ref: https://medium.com/@nikitasilaparasetty/python-interview-coding-questions-with-solutions-for-beginners-7f6d782defac*"
   ]
  },
  {
   "cell_type": "code",
   "execution_count": 5,
   "metadata": {},
   "outputs": [],
   "source": [
    "def listComparison(one, two):\n",
    "    # Define an empty list\n",
    "    same = []\n",
    "    # Loop through the first list\n",
    "    for o in one:\n",
    "        # Loop through the second list\n",
    "        for t in two:\n",
    "            # If the two values are the same\n",
    "            if o == t:\n",
    "                # Append the value to a new list\n",
    "                same.append(o)\n",
    "    return same"
   ]
  },
  {
   "cell_type": "code",
   "execution_count": 9,
   "metadata": {},
   "outputs": [
    {
     "data": {
      "text/plain": [
       "[3, 6]"
      ]
     },
     "execution_count": 9,
     "metadata": {},
     "output_type": "execute_result"
    }
   ],
   "source": [
    "# Example in integer values\n",
    "one = [3, 5, 6]\n",
    "two = [6, 9, 2, 0, 3]\n",
    "listComparison(one, two)"
   ]
  },
  {
   "cell_type": "code",
   "execution_count": 10,
   "metadata": {},
   "outputs": [
    {
     "data": {
      "text/plain": [
       "[1.6, 2.7]"
      ]
     },
     "execution_count": 10,
     "metadata": {},
     "output_type": "execute_result"
    }
   ],
   "source": [
    "# Example in decimal values\n",
    "one = [3.2, 0.5, 1.6, 2.7]\n",
    "two = [1.6, 0.9, 2.7, 0.11, 3.9]\n",
    "listComparison(one, two)"
   ]
  },
  {
   "cell_type": "code",
   "execution_count": 12,
   "metadata": {},
   "outputs": [
    {
     "data": {
      "text/plain": [
       "['Harry', 'Jessica']"
      ]
     },
     "execution_count": 12,
     "metadata": {},
     "output_type": "execute_result"
    }
   ],
   "source": [
    "# Example in string values\n",
    "one = [\"Harry\", \"Jessica\", \"Peter\", \"Naomi\"]\n",
    "two = [\"Erin\", \"Harry\", \"Penelope\", \"Charlotte\", \"Jessica\"]\n",
    "listComparison(one, two)"
   ]
  },
  {
   "cell_type": "code",
   "execution_count": null,
   "metadata": {},
   "outputs": [],
   "source": []
  }
 ],
 "metadata": {
  "kernelspec": {
   "display_name": "Python 3",
   "language": "python",
   "name": "python3"
  },
  "language_info": {
   "codemirror_mode": {
    "name": "ipython",
    "version": 3
   },
   "file_extension": ".py",
   "mimetype": "text/x-python",
   "name": "python",
   "nbconvert_exporter": "python",
   "pygments_lexer": "ipython3",
   "version": "3.9.1"
  }
 },
 "nbformat": 4,
 "nbformat_minor": 4
}
